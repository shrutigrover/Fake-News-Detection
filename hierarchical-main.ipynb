{
 "cells": [
  {
   "cell_type": "code",
   "execution_count": 0,
   "metadata": {
    "colab": {
     "base_uri": "https://localhost:8080/",
     "height": 124
    },
    "colab_type": "code",
    "executionInfo": {
     "elapsed": 53377,
     "status": "ok",
     "timestamp": 1564190203154,
     "user": {
      "displayName": "shruti grover",
      "photoUrl": "",
      "userId": "04332068640361656724"
     },
     "user_tz": 240
    },
    "id": "PYD7ON8VWO-E",
    "outputId": "2a1974f2-1e2f-48dd-d665-025337af84a3",
    "scrolled": true
   },
   "outputs": [
    {
     "name": "stdout",
     "output_type": "stream",
     "text": [
      "Go to this URL in a browser: https://accounts.google.com/o/oauth2/auth?client_id=947318989803-6bn6qk8qdgf4n4g3pfee6491hc0brc4i.apps.googleusercontent.com&redirect_uri=urn%3Aietf%3Awg%3Aoauth%3A2.0%3Aoob&scope=email%20https%3A%2F%2Fwww.googleapis.com%2Fauth%2Fdocs.test%20https%3A%2F%2Fwww.googleapis.com%2Fauth%2Fdrive%20https%3A%2F%2Fwww.googleapis.com%2Fauth%2Fdrive.photos.readonly%20https%3A%2F%2Fwww.googleapis.com%2Fauth%2Fpeopleapi.readonly&response_type=code\n",
      "\n",
      "Enter your authorization code:\n",
      "··········\n",
      "Mounted at /content/drive/\n"
     ]
    }
   ],
   "source": [
    "# Uncomment and Execute first 2 cells steps for running in Colab\n",
    "# from google.colab import drive\n",
    "# drive.mount('/content/drive/')"
   ]
  },
  {
   "cell_type": "markdown",
   "metadata": {
    "colab_type": "text",
    "id": "PZ76lXixED6U"
   },
   "source": [
    "**Please note that you may have to change the path below based on the location of the folder**"
   ]
  },
  {
   "cell_type": "code",
   "execution_count": 0,
   "metadata": {
    "colab": {
     "base_uri": "https://localhost:8080/",
     "height": 35
    },
    "colab_type": "code",
    "executionInfo": {
     "elapsed": 976,
     "status": "ok",
     "timestamp": 1564190326890,
     "user": {
      "displayName": "shruti grover",
      "photoUrl": "",
      "userId": "04332068640361656724"
     },
     "user_tz": 240
    },
    "id": "WKIfIaa0WTPz",
    "outputId": "a6b4aaad-71ab-4675-e1ab-43611457ddde"
   },
   "outputs": [
    {
     "name": "stdout",
     "output_type": "stream",
     "text": [
      "/content/drive/My Drive/Colab Notebooks/fnc-main\n"
     ]
    }
   ],
   "source": [
    "# %cd '/content/drive/My Drive/fnc-main'"
   ]
  },
  {
   "cell_type": "code",
   "execution_count": 1,
   "metadata": {
    "colab": {
     "base_uri": "https://localhost:8080/",
     "height": 35
    },
    "colab_type": "code",
    "executionInfo": {
     "elapsed": 6279,
     "status": "ok",
     "timestamp": 1564190332216,
     "user": {
      "displayName": "shruti grover",
      "photoUrl": "",
      "userId": "04332068640361656724"
     },
     "user_tz": 240
    },
    "id": "ybT00ve8WZ7A",
    "outputId": "8cbfc562-b265-4e5e-a081-9819c71dd175"
   },
   "outputs": [
    {
     "name": "stderr",
     "output_type": "stream",
     "text": [
      "Using TensorFlow backend.\n"
     ]
    }
   ],
   "source": [
    "#import libraries\n",
    "from __future__ import print_function\n",
    "import os\n",
    "import sys\n",
    "import numpy as np\n",
    "import json\n",
    "import pandas as pd\n",
    "import time\n",
    "\n",
    "from xgboost import XGBClassifier\n",
    "from sklearn.ensemble import GradientBoostingClassifier\n",
    "from feature_engineering import refuting_features, polarity_features, hand_features, gen_or_load_feats\n",
    "from feature_engineering import word_overlap_features, NMF_cos_50, LDA_cos_25\n",
    "from utils.dataset import DataSet\n",
    "from utils.generate_test_splits import kfold_split, get_stances_for_folds\n",
    "from utils.score import report_score, LABELS, score_submission\n",
    "from utils.system import parse_params, check_version\n",
    "\n",
    "#Model 2 dependencies\n",
    "from sklearn.model_selection import train_test_split\n",
    "import keras\n",
    "from keras.models import Sequential\n",
    "from keras.layers import Dense, Dropout, Activation, Flatten,BatchNormalization\n",
    "from keras.layers import Conv2D, MaxPooling2D\n",
    "from keras.callbacks import ModelCheckpoint\n",
    "from sklearn.metrics import accuracy_score,confusion_matrix,f1_score\n",
    "import matplotlib.pyplot as plt\n",
    "import random\n",
    "from random import choice"
   ]
  },
  {
   "cell_type": "code",
   "execution_count": 2,
   "metadata": {
    "colab": {},
    "colab_type": "code",
    "id": "-WHlet7ps5Y9"
   },
   "outputs": [],
   "source": [
    "#setting seed to replicate results\n",
    "seed=786\n",
    "np.random.seed(seed)\n",
    "from tensorflow import set_random_seed\n",
    "set_random_seed(seed)"
   ]
  },
  {
   "cell_type": "code",
   "execution_count": 0,
   "metadata": {
    "colab": {},
    "colab_type": "code",
    "id": "soTB53o4WkLf"
   },
   "outputs": [],
   "source": [
    "#save features in dataframe\n",
    "train_feature_data =  pd.DataFrame(columns=['headline','body_id','stance'])\n",
    "comp_feature_data =  pd.DataFrame(columns=['headline','body_id','stance'])"
   ]
  },
  {
   "cell_type": "code",
   "execution_count": 0,
   "metadata": {
    "colab": {},
    "colab_type": "code",
    "id": "WRGyzUkp_PZL"
   },
   "outputs": [],
   "source": [
    "root_path=\"./hierarchicalModel-data/\""
   ]
  },
  {
   "cell_type": "code",
   "execution_count": 0,
   "metadata": {
    "colab": {},
    "colab_type": "code",
    "id": "cVPNQzgqWm3N"
   },
   "outputs": [],
   "source": [
    "#genereate features to train\n",
    "def generate_features(stances,dataset,name):\n",
    "    h, b, y = [],[],[]\n",
    "    rows = []\n",
    "    for stance in stances:\n",
    "        row = []\n",
    "        y.append(LABELS.index(stance['Stance']))\n",
    "        h.append(stance['Headline'])\n",
    "        b.append(dataset.articles[stance['Body ID']])\n",
    "        row.append(stance['Headline'])\n",
    "        row.append(dataset.articles[stance['Body ID']])\n",
    "        row.append(LABELS.index(stance['Stance']))\n",
    "        rows.append(row)\n",
    "\n",
    "    X_overlap = gen_or_load_feats(word_overlap_features, h, b, \"features/overlap.\"+name+\".npy\")\n",
    "    X_refuting = gen_or_load_feats(refuting_features, h, b, \"features/refuting.\"+name+\".npy\")\n",
    "    X_polarity = gen_or_load_feats(polarity_features, h, b, \"features/polarity.\"+name+\".npy\")\n",
    "    X_hand = gen_or_load_feats(hand_features, h, b, \"features/hand.\"+name+\".npy\")\n",
    "\n",
    "    ######Topic Modelling - New Features Added######\n",
    "    X_NMF = gen_or_load_feats(NMF_cos_50, h, b, \"features/nmf.\"+name+\".npy\")\n",
    "    X_LDA = gen_or_load_feats(LDA_cos_25, h, b, \"features/lda-25.\"+name+\".npy\")\n",
    "\n",
    "    X = np.c_[X_hand, X_polarity, X_refuting, X_overlap, X_NMF, X_LDA]\n",
    "    if(name == \"competition\"):\n",
    "        if not (os.path.isfile(root_path+'comp_feature_data.csv')):\n",
    "            comp_feature_data['stance'] = y\n",
    "            comp_feature_data['headline'] = h\n",
    "            comp_feature_data['body_id'] = b\n",
    "            for i in range(0,X.shape[1]):\n",
    "                comp_feature_data[i] = X[:,i]\n",
    "\n",
    "    if(name == \"full\"):\n",
    "        if not (os.path.isfile(root_path+'train_feature_data.csv')):\n",
    "            train_feature_data['stance'] = y\n",
    "            train_feature_data['headline'] = h\n",
    "            train_feature_data['body_id'] = b\n",
    "            for i in range(0,X.shape[1]):\n",
    "                train_feature_data[i] = X[:,i]\n",
    "    return X,y"
   ]
  },
  {
   "cell_type": "code",
   "execution_count": 0,
   "metadata": {
    "colab": {
     "base_uri": "https://localhost:8080/",
     "height": 121
    },
    "colab_type": "code",
    "executionInfo": {
     "elapsed": 17010,
     "status": "ok",
     "timestamp": 1564190343116,
     "user": {
      "displayName": "shruti grover",
      "photoUrl": "",
      "userId": "04332068640361656724"
     },
     "user_tz": 240
    },
    "id": "b0eIreLNaymk",
    "outputId": "4e7d4e42-d46e-4a77-9958-5d2440a80fb0"
   },
   "outputs": [
    {
     "name": "stdout",
     "output_type": "stream",
     "text": [
      "Reading dataset\n",
      "Total stances: 49972\n",
      "Total bodies: 1683\n",
      "Reading dataset\n",
      "Total stances: 25413\n",
      "Total bodies: 904\n"
     ]
    }
   ],
   "source": [
    "#Load the training dataset and generate folds\n",
    "d = DataSet()\n",
    "\n",
    "X_full,y_full = generate_features(d.stances,d,\"full\")\n",
    "#for binary classification - related and unrelated\n",
    "y_full = [x if x==3 else 2 for x in y_full]\n",
    "\n",
    "#removing folds return train and holdout split - check if distribution same - does it matter\n",
    "folds,hold_out = kfold_split(d,n_folds=10)\n",
    "fold_stances, hold_out_stances = get_stances_for_folds(d,folds,hold_out)\n",
    "\n",
    "X_holdout,y_holdout = generate_features(hold_out_stances,d,\"holdout\")\n",
    "y_holdout = [x if x==3 else 2 for x in y_holdout]\n",
    "\n",
    "#load training data\n",
    "X_train, y_train = generate_features(fold_stances, d, \"train_n\")\n",
    "y_train = [x if x==3 else 2 for x in y_train]\n",
    "\n",
    "# Load the competition dataset\n",
    "competition_dataset = DataSet(\"competition_test\")\n",
    "X_competition, y_competition = generate_features(competition_dataset.stances, competition_dataset, \"competition\")\n",
    "y_competition = [x if x==3 else 2 for x in y_competition]"
   ]
  },
  {
   "cell_type": "markdown",
   "metadata": {
    "colab_type": "text",
    "id": "d2VGSl_Ic5Ml"
   },
   "source": [
    "Classifier 1 training (XGBoost) starts here :"
   ]
  },
  {
   "cell_type": "code",
   "execution_count": 0,
   "metadata": {
    "colab": {
     "base_uri": "https://localhost:8080/",
     "height": 1000
    },
    "colab_type": "code",
    "executionInfo": {
     "elapsed": 31135,
     "status": "ok",
     "timestamp": 1564190357272,
     "user": {
      "displayName": "shruti grover",
      "photoUrl": "",
      "userId": "04332068640361656724"
     },
     "user_tz": 240
    },
    "id": "UPnZNH1Oa4jA",
    "outputId": "3fec69e4-b890-461c-e6db-b4877128605c"
   },
   "outputs": [
    {
     "name": "stdout",
     "output_type": "stream",
     "text": [
      "[0]\tvalidation_0-error:0.019033\tvalidation_1-error:0.04417\n",
      "[1]\tvalidation_0-error:0.018538\tvalidation_1-error:0.042819\n",
      "[2]\tvalidation_0-error:0.017918\tvalidation_1-error:0.042507\n",
      "[3]\tvalidation_0-error:0.017869\tvalidation_1-error:0.042195\n",
      "[4]\tvalidation_0-error:0.017893\tvalidation_1-error:0.041052\n",
      "[5]\tvalidation_0-error:0.017596\tvalidation_1-error:0.040636\n",
      "[6]\tvalidation_0-error:0.01715\tvalidation_1-error:0.040948\n",
      "[7]\tvalidation_0-error:0.0172\tvalidation_1-error:0.040532\n",
      "[8]\tvalidation_0-error:0.017571\tvalidation_1-error:0.041052\n",
      "[9]\tvalidation_0-error:0.017323\tvalidation_1-error:0.041364\n",
      "[10]\tvalidation_0-error:0.017299\tvalidation_1-error:0.041052\n",
      "[11]\tvalidation_0-error:0.01715\tvalidation_1-error:0.039493\n",
      "[12]\tvalidation_0-error:0.017249\tvalidation_1-error:0.041052\n",
      "[13]\tvalidation_0-error:0.017125\tvalidation_1-error:0.039701\n",
      "[14]\tvalidation_0-error:0.01715\tvalidation_1-error:0.038765\n",
      "[15]\tvalidation_0-error:0.017076\tvalidation_1-error:0.039805\n",
      "[16]\tvalidation_0-error:0.017026\tvalidation_1-error:0.039701\n",
      "[17]\tvalidation_0-error:0.016902\tvalidation_1-error:0.039493\n",
      "[18]\tvalidation_0-error:0.016952\tvalidation_1-error:0.038973\n",
      "[19]\tvalidation_0-error:0.016629\tvalidation_1-error:0.038454\n",
      "[20]\tvalidation_0-error:0.01658\tvalidation_1-error:0.038661\n",
      "[21]\tvalidation_0-error:0.016406\tvalidation_1-error:0.038765\n",
      "[22]\tvalidation_0-error:0.016134\tvalidation_1-error:0.035751\n",
      "[23]\tvalidation_0-error:0.015985\tvalidation_1-error:0.034608\n",
      "[24]\tvalidation_0-error:0.015936\tvalidation_1-error:0.03492\n",
      "[25]\tvalidation_0-error:0.015737\tvalidation_1-error:0.034089\n",
      "[26]\tvalidation_0-error:0.015787\tvalidation_1-error:0.035128\n",
      "[27]\tvalidation_0-error:0.015688\tvalidation_1-error:0.033985\n",
      "[28]\tvalidation_0-error:0.015663\tvalidation_1-error:0.0344\n",
      "[29]\tvalidation_0-error:0.015415\tvalidation_1-error:0.033881\n",
      "[30]\tvalidation_0-error:0.01539\tvalidation_1-error:0.033569\n",
      "[31]\tvalidation_0-error:0.01539\tvalidation_1-error:0.033257\n",
      "[32]\tvalidation_0-error:0.015341\tvalidation_1-error:0.033465\n",
      "[33]\tvalidation_0-error:0.015415\tvalidation_1-error:0.033361\n",
      "[34]\tvalidation_0-error:0.015316\tvalidation_1-error:0.032634\n",
      "[35]\tvalidation_0-error:0.015316\tvalidation_1-error:0.032945\n",
      "[36]\tvalidation_0-error:0.015192\tvalidation_1-error:0.032737\n",
      "[37]\tvalidation_0-error:0.015143\tvalidation_1-error:0.03253\n",
      "[38]\tvalidation_0-error:0.015068\tvalidation_1-error:0.03253\n",
      "[39]\tvalidation_0-error:0.015019\tvalidation_1-error:0.032322\n",
      "[40]\tvalidation_0-error:0.014944\tvalidation_1-error:0.032322\n",
      "[41]\tvalidation_0-error:0.014944\tvalidation_1-error:0.032114\n",
      "[42]\tvalidation_0-error:0.014895\tvalidation_1-error:0.031802\n",
      "[43]\tvalidation_0-error:0.01487\tvalidation_1-error:0.031594\n",
      "[44]\tvalidation_0-error:0.014845\tvalidation_1-error:0.031594\n",
      "[45]\tvalidation_0-error:0.01487\tvalidation_1-error:0.031386\n",
      "[46]\tvalidation_0-error:0.01487\tvalidation_1-error:0.03149\n",
      "[47]\tvalidation_0-error:0.014895\tvalidation_1-error:0.03149\n",
      "[48]\tvalidation_0-error:0.01487\tvalidation_1-error:0.031386\n",
      "[49]\tvalidation_0-error:0.014746\tvalidation_1-error:0.03149\n",
      "[50]\tvalidation_0-error:0.014771\tvalidation_1-error:0.03149\n",
      "[51]\tvalidation_0-error:0.01482\tvalidation_1-error:0.03149\n",
      "[52]\tvalidation_0-error:0.014721\tvalidation_1-error:0.031179\n",
      "[53]\tvalidation_0-error:0.014672\tvalidation_1-error:0.031075\n",
      "[54]\tvalidation_0-error:0.014523\tvalidation_1-error:0.031075\n",
      "[55]\tvalidation_0-error:0.014498\tvalidation_1-error:0.030971\n",
      "[56]\tvalidation_0-error:0.014424\tvalidation_1-error:0.030971\n",
      "[57]\tvalidation_0-error:0.014548\tvalidation_1-error:0.030971\n",
      "[58]\tvalidation_0-error:0.014572\tvalidation_1-error:0.030971\n",
      "[59]\tvalidation_0-error:0.014548\tvalidation_1-error:0.030659\n",
      "[60]\tvalidation_0-error:0.014746\tvalidation_1-error:0.030867\n",
      "[61]\tvalidation_0-error:0.014721\tvalidation_1-error:0.030867\n",
      "[62]\tvalidation_0-error:0.014548\tvalidation_1-error:0.030659\n",
      "[63]\tvalidation_0-error:0.014647\tvalidation_1-error:0.030763\n",
      "[64]\tvalidation_0-error:0.014672\tvalidation_1-error:0.030659\n",
      "[65]\tvalidation_0-error:0.014622\tvalidation_1-error:0.030763\n",
      "[66]\tvalidation_0-error:0.014597\tvalidation_1-error:0.030763\n",
      "[67]\tvalidation_0-error:0.014572\tvalidation_1-error:0.030763\n",
      "[68]\tvalidation_0-error:0.0143\tvalidation_1-error:0.030763\n",
      "[69]\tvalidation_0-error:0.014275\tvalidation_1-error:0.030659\n",
      "[70]\tvalidation_0-error:0.014201\tvalidation_1-error:0.030659\n",
      "[71]\tvalidation_0-error:0.014226\tvalidation_1-error:0.030659\n",
      "[72]\tvalidation_0-error:0.014077\tvalidation_1-error:0.030763\n",
      "[73]\tvalidation_0-error:0.014151\tvalidation_1-error:0.030763\n",
      "[74]\tvalidation_0-error:0.014077\tvalidation_1-error:0.030763\n",
      "[75]\tvalidation_0-error:0.014052\tvalidation_1-error:0.030763\n",
      "[76]\tvalidation_0-error:0.013953\tvalidation_1-error:0.030763\n",
      "[77]\tvalidation_0-error:0.013953\tvalidation_1-error:0.030659\n",
      "[78]\tvalidation_0-error:0.013879\tvalidation_1-error:0.030763\n",
      "[79]\tvalidation_0-error:0.013903\tvalidation_1-error:0.030763\n",
      "[80]\tvalidation_0-error:0.013903\tvalidation_1-error:0.030867\n",
      "[81]\tvalidation_0-error:0.013879\tvalidation_1-error:0.030763\n",
      "[82]\tvalidation_0-error:0.013879\tvalidation_1-error:0.030867\n",
      "[83]\tvalidation_0-error:0.013854\tvalidation_1-error:0.030971\n",
      "[84]\tvalidation_0-error:0.013854\tvalidation_1-error:0.030971\n",
      "[85]\tvalidation_0-error:0.01373\tvalidation_1-error:0.030971\n",
      "[86]\tvalidation_0-error:0.013755\tvalidation_1-error:0.030971\n",
      "[87]\tvalidation_0-error:0.013779\tvalidation_1-error:0.030971\n",
      "[88]\tvalidation_0-error:0.01373\tvalidation_1-error:0.030971\n",
      "[89]\tvalidation_0-error:0.01373\tvalidation_1-error:0.031075\n",
      "[90]\tvalidation_0-error:0.01373\tvalidation_1-error:0.031075\n",
      "[91]\tvalidation_0-error:0.01368\tvalidation_1-error:0.031075\n",
      "[92]\tvalidation_0-error:0.013705\tvalidation_1-error:0.031075\n",
      "[93]\tvalidation_0-error:0.013779\tvalidation_1-error:0.031075\n",
      "[94]\tvalidation_0-error:0.013779\tvalidation_1-error:0.030971\n",
      "[95]\tvalidation_0-error:0.013779\tvalidation_1-error:0.031075\n",
      "[96]\tvalidation_0-error:0.01368\tvalidation_1-error:0.030763\n",
      "[97]\tvalidation_0-error:0.01368\tvalidation_1-error:0.030659\n",
      "[98]\tvalidation_0-error:0.01368\tvalidation_1-error:0.030659\n",
      "[99]\tvalidation_0-error:0.013656\tvalidation_1-error:0.030763\n",
      "[100]\tvalidation_0-error:0.013556\tvalidation_1-error:0.030659\n",
      "[101]\tvalidation_0-error:0.013556\tvalidation_1-error:0.030659\n",
      "[102]\tvalidation_0-error:0.013556\tvalidation_1-error:0.030659\n",
      "[103]\tvalidation_0-error:0.013556\tvalidation_1-error:0.030555\n",
      "[104]\tvalidation_0-error:0.013507\tvalidation_1-error:0.030555\n",
      "[105]\tvalidation_0-error:0.013457\tvalidation_1-error:0.030659\n",
      "[106]\tvalidation_0-error:0.013432\tvalidation_1-error:0.030555\n",
      "[107]\tvalidation_0-error:0.013457\tvalidation_1-error:0.030555\n",
      "[108]\tvalidation_0-error:0.013457\tvalidation_1-error:0.030555\n",
      "[109]\tvalidation_0-error:0.013507\tvalidation_1-error:0.030555\n",
      "[110]\tvalidation_0-error:0.013507\tvalidation_1-error:0.030555\n",
      "[111]\tvalidation_0-error:0.013457\tvalidation_1-error:0.030659\n",
      "[112]\tvalidation_0-error:0.013532\tvalidation_1-error:0.030555\n",
      "[113]\tvalidation_0-error:0.013507\tvalidation_1-error:0.030659\n",
      "[114]\tvalidation_0-error:0.013482\tvalidation_1-error:0.030243\n",
      "[115]\tvalidation_0-error:0.013408\tvalidation_1-error:0.030139\n",
      "[116]\tvalidation_0-error:0.013383\tvalidation_1-error:0.030139\n",
      "[117]\tvalidation_0-error:0.013333\tvalidation_1-error:0.030243\n",
      "[118]\tvalidation_0-error:0.013358\tvalidation_1-error:0.030243\n",
      "[119]\tvalidation_0-error:0.013358\tvalidation_1-error:0.030243\n",
      "[120]\tvalidation_0-error:0.013383\tvalidation_1-error:0.030347\n",
      "[121]\tvalidation_0-error:0.013408\tvalidation_1-error:0.030347\n",
      "[122]\tvalidation_0-error:0.013408\tvalidation_1-error:0.030347\n",
      "[123]\tvalidation_0-error:0.013383\tvalidation_1-error:0.030347\n",
      "[124]\tvalidation_0-error:0.013408\tvalidation_1-error:0.030347\n",
      "[125]\tvalidation_0-error:0.013383\tvalidation_1-error:0.030139\n",
      "[126]\tvalidation_0-error:0.013383\tvalidation_1-error:0.030035\n",
      "[127]\tvalidation_0-error:0.013383\tvalidation_1-error:0.030035\n",
      "[128]\tvalidation_0-error:0.013383\tvalidation_1-error:0.030035\n",
      "[129]\tvalidation_0-error:0.013234\tvalidation_1-error:0.030139\n",
      "[130]\tvalidation_0-error:0.013259\tvalidation_1-error:0.030035\n",
      "[131]\tvalidation_0-error:0.013185\tvalidation_1-error:0.030035\n",
      "[132]\tvalidation_0-error:0.013333\tvalidation_1-error:0.030139\n",
      "[133]\tvalidation_0-error:0.013259\tvalidation_1-error:0.030139\n",
      "[134]\tvalidation_0-error:0.013209\tvalidation_1-error:0.030035\n",
      "[135]\tvalidation_0-error:0.013209\tvalidation_1-error:0.030035\n",
      "[136]\tvalidation_0-error:0.013209\tvalidation_1-error:0.029931\n",
      "[137]\tvalidation_0-error:0.013185\tvalidation_1-error:0.029931\n",
      "[138]\tvalidation_0-error:0.013185\tvalidation_1-error:0.030035\n",
      "[139]\tvalidation_0-error:0.013185\tvalidation_1-error:0.030035\n",
      "[140]\tvalidation_0-error:0.01316\tvalidation_1-error:0.030139\n",
      "[141]\tvalidation_0-error:0.013135\tvalidation_1-error:0.030139\n",
      "[142]\tvalidation_0-error:0.013086\tvalidation_1-error:0.030139\n",
      "[143]\tvalidation_0-error:0.013036\tvalidation_1-error:0.030035\n",
      "[144]\tvalidation_0-error:0.013011\tvalidation_1-error:0.030035\n",
      "[145]\tvalidation_0-error:0.013011\tvalidation_1-error:0.029931\n",
      "[146]\tvalidation_0-error:0.012962\tvalidation_1-error:0.029827\n",
      "[147]\tvalidation_0-error:0.012962\tvalidation_1-error:0.029827\n",
      "[148]\tvalidation_0-error:0.012962\tvalidation_1-error:0.029827\n",
      "[149]\tvalidation_0-error:0.012887\tvalidation_1-error:0.029827\n"
     ]
    },
    {
     "data": {
      "text/plain": [
       "XGBClassifier(base_score=0.5, booster='gbtree', colsample_bylevel=1,\n",
       "              colsample_bynode=1, colsample_bytree=1, eta=1, gamma=0,\n",
       "              learning_rate=0.1, max_delta_step=0, max_depth=3,\n",
       "              min_child_weight=1, missing=None, n_estimators=150, n_jobs=1,\n",
       "              nthread=None, objective='binary:logistic',\n",
       "              objectve='binary:logistic', random_state=0, reg_alpha=0,\n",
       "              reg_lambda=1, scale_pos_weight=1, seed=10, silent=None,\n",
       "              subsample=1, verbosity=1)"
      ]
     },
     "execution_count": 10,
     "metadata": {
      "tags": []
     },
     "output_type": "execute_result"
    }
   ],
   "source": [
    "#Train classifier on 2 classes\n",
    "param = {'eta':1, 'objectve' : \"binary:logistic\" , 'n_estimators':150, 'seed':10}\n",
    "\n",
    "clf = XGBClassifier(**param)\n",
    "start = int(round(time.time()*1000))\n",
    "end = int(round(time.time()*1000))\n",
    "train_time = end - start\n",
    "clf.fit(X_train, y_train, eval_set=[(X_train, y_train), (X_holdout, y_holdout)], verbose=True)\n"
   ]
  },
  {
   "cell_type": "code",
   "execution_count": 0,
   "metadata": {
    "colab": {},
    "colab_type": "code",
    "id": "b4E-r1SybEde"
   },
   "outputs": [],
   "source": [
    "#predict on train and holdout\n",
    "y_pred_train = clf.predict(X_train)\n",
    "y_pred = clf.predict(X_holdout)\n",
    "y_pred_onfull = clf.predict(X_full)"
   ]
  },
  {
   "cell_type": "code",
   "execution_count": 0,
   "metadata": {
    "colab": {},
    "colab_type": "code",
    "id": "PkWaN8SgbSvl"
   },
   "outputs": [],
   "source": [
    "#save features for training data\n",
    "if not (os.path.isfile(root_path+'train_feature_data.csv')):\n",
    "  train_feature_data['predicted_stance'] = y_pred_onfull\n",
    "  train_feature_data.to_csv(root_path+'train_feature_data.csv', index = False)\n",
    "  #check file\n",
    "  feature_df = pd.read_csv(root_path+'train_feature_data.csv')\n",
    "  print(\"train data file size : \", feature_df.shape)\n",
    "  print(\"train data file: \", feature_df.head())"
   ]
  },
  {
   "cell_type": "code",
   "execution_count": 0,
   "metadata": {
    "colab": {
     "base_uri": "https://localhost:8080/",
     "height": 780
    },
    "colab_type": "code",
    "executionInfo": {
     "elapsed": 31963,
     "status": "ok",
     "timestamp": 1564190358121,
     "user": {
      "displayName": "shruti grover",
      "photoUrl": "",
      "userId": "04332068640361656724"
     },
     "user_tz": 240
    },
    "id": "Ea_TpncvbWWf",
    "outputId": "359c0e8a-292b-4392-ab0b-081b259652f7"
   },
   "outputs": [
    {
     "name": "stdout",
     "output_type": "stream",
     "text": [
      "Scores on the train set\n",
      "-------------------------------------------------------------\n",
      "|           |   agree   | disagree  |  discuss  | unrelated |\n",
      "-------------------------------------------------------------\n",
      "|   agree   |     0     |     0     |     0     |     0     |\n",
      "-------------------------------------------------------------\n",
      "| disagree  |     0     |     0     |     0     |     0     |\n",
      "-------------------------------------------------------------\n",
      "|  discuss  |     0     |     0     |   10544   |    159    |\n",
      "-------------------------------------------------------------\n",
      "| unrelated |     0     |     0     |    361    |   29286   |\n",
      "-------------------------------------------------------------\n",
      "Score: 17865.5 out of 18114.75\t(98.62404946245464%)\n",
      "\n",
      "\n",
      "Scores on the dev set\n",
      "-------------------------------------------------------------\n",
      "|           |   agree   | disagree  |  discuss  | unrelated |\n",
      "-------------------------------------------------------------\n",
      "|   agree   |     0     |     0     |     0     |     0     |\n",
      "-------------------------------------------------------------\n",
      "| disagree  |     0     |     0     |     0     |     0     |\n",
      "-------------------------------------------------------------\n",
      "|  discuss  |     0     |     0     |   2503    |    221    |\n",
      "-------------------------------------------------------------\n",
      "| unrelated |     0     |     0     |    66     |   6832    |\n",
      "-------------------------------------------------------------\n",
      "Score: 4211.0 out of 4448.5\t(94.66112172642464%)\n",
      "\n",
      "\n",
      "Scores on the test set\n",
      "-------------------------------------------------------------\n",
      "|           |   agree   | disagree  |  discuss  | unrelated |\n",
      "-------------------------------------------------------------\n",
      "|   agree   |     0     |     0     |     0     |     0     |\n",
      "-------------------------------------------------------------\n",
      "| disagree  |     0     |     0     |     0     |     0     |\n",
      "-------------------------------------------------------------\n",
      "|  discuss  |     0     |     0     |   6677    |    387    |\n",
      "-------------------------------------------------------------\n",
      "| unrelated |     0     |     0     |    170    |   18179   |\n",
      "-------------------------------------------------------------\n",
      "Score: 11221.75 out of 11651.25\t(96.31370024675464%)\n"
     ]
    },
    {
     "data": {
      "text/plain": [
       "96.31370024675464"
      ]
     },
     "execution_count": 13,
     "metadata": {
      "tags": []
     },
     "output_type": "execute_result"
    }
   ],
   "source": [
    "#get scores for binary classification: all Related mapped to 'discuss' class\n",
    "predicted = [LABELS[int(a)] for a in y_pred_train]\n",
    "actual = [LABELS[int(a)] for a in y_train]\n",
    "print(\"Scores on the train set\")\n",
    "report_score(actual,predicted)\n",
    "print(\"\")\n",
    "print(\"\")\n",
    "\n",
    "predicted = [LABELS[int(a)] for a in y_pred]\n",
    "actual = [LABELS[int(a)] for a in y_holdout]\n",
    "print(\"Scores on the dev set\")\n",
    "report_score(actual,predicted)\n",
    "print(\"\")\n",
    "print(\"\")\n",
    "\n",
    "test_pred = clf.predict(X_competition)\n",
    "predicted = [LABELS[int(a)] for a in test_pred]\n",
    "actual = [LABELS[int(a)] for a in y_competition]\n",
    "\n",
    "print(\"Scores on the test set\")\n",
    "report_score(actual,predicted)"
   ]
  },
  {
   "cell_type": "code",
   "execution_count": 0,
   "metadata": {
    "colab": {
     "base_uri": "https://localhost:8080/",
     "height": 35
    },
    "colab_type": "code",
    "executionInfo": {
     "elapsed": 32151,
     "status": "ok",
     "timestamp": 1564190358325,
     "user": {
      "displayName": "shruti grover",
      "photoUrl": "",
      "userId": "04332068640361656724"
     },
     "user_tz": 240
    },
    "id": "Woe1IX_qbiV-",
    "outputId": "c78c841e-01ef-49c4-a1ea-8d3d005ddaef"
   },
   "outputs": [
    {
     "name": "stdout",
     "output_type": "stream",
     "text": [
      "train time:  0\n"
     ]
    }
   ],
   "source": [
    "#save features of competition dataset\n",
    "if not (os.path.isfile(root_path+'comp_feature_data.csv')):\n",
    "    comp_feature_data['predicted_stance'] = test_pred\n",
    "    comp_feature_data.to_csv(root_path+'comp_feature_data.csv', index = False)\n",
    "    #check file\n",
    "    feature_df = pd.read_csv(root_path+'comp_feature_data.csv')\n",
    "    print(\"comp data file size : \", feature_df.shape)\n",
    "    print(\"comp data file: \", feature_df.head())\n",
    "\n",
    "print(\"train time: \",train_time)"
   ]
  },
  {
   "cell_type": "markdown",
   "metadata": {
    "colab_type": "text",
    "id": "cWmk97ELbsiX"
   },
   "source": [
    "Hierarchical Architecture along with code forClassifier 2 (BERT + DNN ) starts here : "
   ]
  },
  {
   "cell_type": "code",
   "execution_count": 0,
   "metadata": {
    "colab": {},
    "colab_type": "code",
    "id": "UnyuKxdtiaQB"
   },
   "outputs": [],
   "source": [
    "# Getting BERT Embeddings for Train and Test Data\n",
    "df_train=pd.read_csv(root_path+\"Train_BERT.csv\")\n",
    "df_test=pd.read_csv(root_path+\"Test_BERT.csv\")\n",
    "df_train=df_train.drop([\"Unnamed: 0\"],axis=1)\n",
    "df_test=df_test.drop([\"Unnamed: 0\"],axis=1)"
   ]
  },
  {
   "cell_type": "code",
   "execution_count": 0,
   "metadata": {
    "colab": {},
    "colab_type": "code",
    "id": "KVhwaLhyi2jO"
   },
   "outputs": [],
   "source": [
    "# Filtering BERT Embeddings only for Training Data for 3 Classes i.e. Dropping Rows for related class because they are not used to train DNN model. \n",
    "df_related=df_train[df_train[\"Stance\"]!=4]\n",
    "df_train=df_related"
   ]
  },
  {
   "cell_type": "code",
   "execution_count": 0,
   "metadata": {
    "colab": {},
    "colab_type": "code",
    "id": "qIYO59fsHMFW"
   },
   "outputs": [],
   "source": [
    "# Separating Stance from Embeddings for Training Data.\n",
    "X=df_train.drop([\"Stance\"],axis=1)\n",
    "y=df_train[\"Stance\"]\n",
    "# Separating Stance from Embeddings for Testing Data.\n",
    "X_comp=df_test.drop([\"Stance\"],axis=1)\n",
    "y_comp=df_test[\"Stance\"]"
   ]
  },
  {
   "cell_type": "code",
   "execution_count": 0,
   "metadata": {
    "colab": {},
    "colab_type": "code",
    "id": "7w2j0pjNI9r9"
   },
   "outputs": [],
   "source": [
    "# Training and Validation Split\n",
    "X_train, X_test, y_train, y_test = train_test_split(X, y, test_size=0.3, random_state=seed)"
   ]
  },
  {
   "cell_type": "code",
   "execution_count": 0,
   "metadata": {
    "colab": {},
    "colab_type": "code",
    "id": "UMp6pNMExcMl"
   },
   "outputs": [],
   "source": [
    "y_gold=y_comp\n"
   ]
  },
  {
   "cell_type": "code",
   "execution_count": 0,
   "metadata": {
    "colab": {},
    "colab_type": "code",
    "id": "3PFHbdYmxYht"
   },
   "outputs": [],
   "source": [
    "## Data Cleaning because of label offset in input files\n",
    "y_train=np.where(y_train==1, 0, y_train) \n",
    "y_train=np.where(y_train==2, 1, y_train)\n",
    "y_train=np.where(y_train==3, 2, y_train)\n",
    "\n",
    "y_test=np.where(y_test==1, 0, y_test) \n",
    "y_test=np.where(y_test==2, 1, y_test)\n",
    "y_test=np.where(y_test==3, 2, y_test)\n",
    "\n",
    "y_t=y_train\n",
    "y_val=y_test\n",
    "## Encdoding label for multiclass classification with DNN in Keras\n",
    "y_train = keras.utils.to_categorical(y_train, 3)\n",
    "y_test = keras.utils.to_categorical(y_test, 3)\n"
   ]
  },
  {
   "cell_type": "code",
   "execution_count": 0,
   "metadata": {
    "colab": {
     "base_uri": "https://localhost:8080/",
     "height": 139
    },
    "colab_type": "code",
    "executionInfo": {
     "elapsed": 151396,
     "status": "ok",
     "timestamp": 1564190477625,
     "user": {
      "displayName": "shruti grover",
      "photoUrl": "",
      "userId": "04332068640361656724"
     },
     "user_tz": 240
    },
    "id": "VkHoVtRgcr7D",
    "outputId": "1c7e2d54-4a39-4a47-c038-c56654401fa4"
   },
   "outputs": [
    {
     "data": {
      "text/plain": [
       "XGBClassifier(base_score=0.5, booster='gbtree', colsample_bylevel=1,\n",
       "              colsample_bynode=1, colsample_bytree=1, gamma=0,\n",
       "              learning_rate=0.1, max_delta_step=0, max_depth=3,\n",
       "              min_child_weight=1, missing=None, n_estimators=100, n_jobs=1,\n",
       "              nthread=None, objective='multi:softprob', random_state=0,\n",
       "              reg_alpha=0, reg_lambda=1, scale_pos_weight=1, seed=None,\n",
       "              silent=None, subsample=1, verbosity=1)"
      ]
     },
     "execution_count": 21,
     "metadata": {
      "tags": []
     },
     "output_type": "execute_result"
    }
   ],
   "source": [
    "# Training XG Boost Classifier on BERT Embeddings for 3 class classification\n",
    "model_xg = XGBClassifier()\n",
    "model_xg.fit(X_train, y_t)"
   ]
  },
  {
   "cell_type": "code",
   "execution_count": 0,
   "metadata": {
    "colab": {},
    "colab_type": "code",
    "id": "szXuaS-e60y3"
   },
   "outputs": [],
   "source": [
    "# Prediction of Training and Validation Results\n",
    "y_pred_xg_train = model_xg.predict(X_train)\n",
    "y_pred_xg_val = model_xg.predict(X_test)\n"
   ]
  },
  {
   "cell_type": "code",
   "execution_count": 0,
   "metadata": {
    "colab": {
     "base_uri": "https://localhost:8080/",
     "height": 191
    },
    "colab_type": "code",
    "executionInfo": {
     "elapsed": 151943,
     "status": "ok",
     "timestamp": 1564190478184,
     "user": {
      "displayName": "shruti grover",
      "photoUrl": "",
      "userId": "04332068640361656724"
     },
     "user_tz": 240
    },
    "id": "rpVErzxqcsBY",
    "outputId": "c95f88a6-80b8-449c-f966-b2a08999d77d"
   },
   "outputs": [
    {
     "name": "stdout",
     "output_type": "stream",
     "text": [
      "Training Confusion Matrix for 3 Class prediction by XGBoost+BERT \n",
      " [[1725   72  806]\n",
      " [ 181  189  225]\n",
      " [ 328   32 5841]] \n",
      "F1 Score Train  0.6775083941333011\n",
      "Validation Confusion Matrix for 3 Class prediction by XGBoost+BERT\n",
      " [[ 646   35  395]\n",
      " [  93   61   91]\n",
      " [ 162   23 2523]] \n",
      "F1 Score Train  0.6237703376578914\n"
     ]
    }
   ],
   "source": [
    "print(\"Training Confusion Matrix for 3 Class prediction by XGBoost+BERT \\n\",confusion_matrix(y_t,y_pred_xg_train),\"\\nF1 Score Train \",f1_score(y_t,y_pred_xg_train,average='macro'))\n",
    "print(\"Validation Confusion Matrix for 3 Class prediction by XGBoost+BERT\\n\",confusion_matrix(y_val,y_pred_xg_val),\"\\nF1 Score Train \",f1_score(y_val,y_pred_xg_val,average='macro'))"
   ]
  },
  {
   "cell_type": "code",
   "execution_count": 0,
   "metadata": {
    "colab": {},
    "colab_type": "code",
    "id": "Nn1aNxfMfC7l"
   },
   "outputs": [],
   "source": [
    "y_comp_xg = model_xg.predict(X_comp)"
   ]
  },
  {
   "cell_type": "code",
   "execution_count": 0,
   "metadata": {
    "colab": {},
    "colab_type": "code",
    "id": "VnivvhwHDYo4"
   },
   "outputs": [],
   "source": [
    "# Model 1 for BERT + DNN\n",
    "model = Sequential()\n",
    "model.add(Dense(768))\n",
    "model.add(BatchNormalization())\n",
    "model.add(Activation('relu'))\n",
    "model.add(Dropout(0.5))\n",
    "model.add(Dense(300))\n",
    "model.add(BatchNormalization())\n",
    "model.add(Activation('relu'))\n",
    "# model.add(Dropout(0.3))\n",
    "# model.add(Dense(200))\n",
    "# model.add(BatchNormalization())\n",
    "# model.add(Activation('relu'))\n",
    "model.add(Dense(3))\n",
    "model.add(Activation('softmax'))"
   ]
  },
  {
   "cell_type": "code",
   "execution_count": 0,
   "metadata": {
    "colab": {},
    "colab_type": "code",
    "id": "c7xloUahwOPu"
   },
   "outputs": [],
   "source": [
    "# Model2 BERT+DNN with different class weights\n",
    "model2 = Sequential()\n",
    "model2.add(Dense(768))\n",
    "model2.add(BatchNormalization())\n",
    "model2.add(Activation('relu'))\n",
    "model2.add(Dropout(0.5))\n",
    "model2.add(Dense(500))\n",
    "model2.add(BatchNormalization())\n",
    "model2.add(Activation('relu'))\n",
    "model2.add(Dropout(0.5))\n",
    "model2.add(Dense(500))\n",
    "model2.add(Activation('relu'))\n",
    "model2.add(Dropout(0.3))\n",
    "model2.add(Dense(500))\n",
    "model2.add(BatchNormalization())\n",
    "model2.add(Activation('relu'))\n",
    "model2.add(Dense(3))\n",
    "model2.add(Activation('softmax'))"
   ]
  },
  {
   "cell_type": "code",
   "execution_count": 0,
   "metadata": {
    "colab": {},
    "colab_type": "code",
    "id": "28h41UOxG2v_"
   },
   "outputs": [],
   "source": [
    "# Initiate adam optimizer and compile both models\n",
    "opt = keras.optimizers.adam()\n",
    "\n",
    "model.compile(loss='categorical_crossentropy',\n",
    "              optimizer=opt,\n",
    "              metrics=['accuracy'])\n",
    "model2.compile(loss='categorical_crossentropy',\n",
    "              optimizer=opt,\n",
    "              metrics=['accuracy'])"
   ]
  },
  {
   "cell_type": "code",
   "execution_count": 0,
   "metadata": {
    "colab": {},
    "colab_type": "code",
    "id": "E2DT9dx0Fxh2"
   },
   "outputs": [],
   "source": [
    "#Defining Class weights for model2\n",
    "class_weight = {0: 1.,\n",
    "                1: 2.,\n",
    "                2: 1.}"
   ]
  },
  {
   "cell_type": "code",
   "execution_count": 0,
   "metadata": {
    "colab": {
     "base_uri": "https://localhost:8080/",
     "height": 1000
    },
    "colab_type": "code",
    "executionInfo": {
     "elapsed": 118854,
     "status": "ok",
     "timestamp": 1564191308629,
     "user": {
      "displayName": "shruti grover",
      "photoUrl": "",
      "userId": "04332068640361656724"
     },
     "user_tz": 240
    },
    "id": "yMOxu80uG2yN",
    "outputId": "3fa99821-16c5-440d-df04-dceda2e3f6de"
   },
   "outputs": [
    {
     "name": "stdout",
     "output_type": "stream",
     "text": [
      "Train on 9399 samples, validate on 4029 samples\n",
      "Epoch 1/20\n",
      "9399/9399 [==============================] - 7s 752us/step - loss: 0.6996 - acc: 0.7142 - val_loss: 0.5290 - val_acc: 0.7900\n",
      "\n",
      "Epoch 00001: val_loss improved from -inf to 0.52896, saving model to ./hierarchicalModel-data/weights.best.hdf5\n",
      "Epoch 2/20\n",
      "9399/9399 [==============================] - 6s 614us/step - loss: 0.5343 - acc: 0.7805 - val_loss: 0.4823 - val_acc: 0.7903\n",
      "\n",
      "Epoch 00002: val_loss did not improve from 0.52896\n",
      "Epoch 3/20\n",
      "9399/9399 [==============================] - 6s 610us/step - loss: 0.4828 - acc: 0.7942 - val_loss: 0.4765 - val_acc: 0.8034\n",
      "\n",
      "Epoch 00003: val_loss did not improve from 0.52896\n",
      "Epoch 4/20\n",
      "9399/9399 [==============================] - 6s 608us/step - loss: 0.4511 - acc: 0.8064 - val_loss: 0.4306 - val_acc: 0.8148\n",
      "\n",
      "Epoch 00004: val_loss did not improve from 0.52896\n",
      "Epoch 5/20\n",
      "9399/9399 [==============================] - 6s 622us/step - loss: 0.4294 - acc: 0.8107 - val_loss: 0.4346 - val_acc: 0.8248\n",
      "\n",
      "Epoch 00005: val_loss did not improve from 0.52896\n",
      "Epoch 6/20\n",
      "9399/9399 [==============================] - 6s 606us/step - loss: 0.4153 - acc: 0.8162 - val_loss: 0.4452 - val_acc: 0.8079\n",
      "\n",
      "Epoch 00006: val_loss did not improve from 0.52896\n",
      "Epoch 7/20\n",
      "9399/9399 [==============================] - 6s 598us/step - loss: 0.4017 - acc: 0.8208 - val_loss: 0.4190 - val_acc: 0.8233\n",
      "\n",
      "Epoch 00007: val_loss did not improve from 0.52896\n",
      "Epoch 8/20\n",
      "9399/9399 [==============================] - 6s 604us/step - loss: 0.3912 - acc: 0.8241 - val_loss: 0.4053 - val_acc: 0.8223\n",
      "\n",
      "Epoch 00008: val_loss did not improve from 0.52896\n",
      "Epoch 9/20\n",
      "9399/9399 [==============================] - 6s 596us/step - loss: 0.3805 - acc: 0.8296 - val_loss: 0.4061 - val_acc: 0.8297\n",
      "\n",
      "Epoch 00009: val_loss did not improve from 0.52896\n",
      "Epoch 10/20\n",
      "9399/9399 [==============================] - 6s 610us/step - loss: 0.3779 - acc: 0.8315 - val_loss: 0.4065 - val_acc: 0.8230\n",
      "\n",
      "Epoch 00010: val_loss did not improve from 0.52896\n",
      "Epoch 11/20\n",
      "9399/9399 [==============================] - 6s 624us/step - loss: 0.3672 - acc: 0.8332 - val_loss: 0.4067 - val_acc: 0.8345\n",
      "\n",
      "Epoch 00011: val_loss did not improve from 0.52896\n",
      "Epoch 12/20\n",
      "9399/9399 [==============================] - 6s 608us/step - loss: 0.3603 - acc: 0.8340 - val_loss: 0.4170 - val_acc: 0.8215\n",
      "\n",
      "Epoch 00012: val_loss did not improve from 0.52896\n",
      "Epoch 13/20\n",
      "9399/9399 [==============================] - 6s 609us/step - loss: 0.3555 - acc: 0.8379 - val_loss: 0.4083 - val_acc: 0.8312\n",
      "\n",
      "Epoch 00013: val_loss did not improve from 0.52896\n",
      "Epoch 14/20\n",
      "9399/9399 [==============================] - 6s 595us/step - loss: 0.3536 - acc: 0.8392 - val_loss: 0.4180 - val_acc: 0.8250\n",
      "\n",
      "Epoch 00014: val_loss did not improve from 0.52896\n",
      "Epoch 15/20\n",
      "9399/9399 [==============================] - 6s 591us/step - loss: 0.3495 - acc: 0.8430 - val_loss: 0.4201 - val_acc: 0.8243\n",
      "\n",
      "Epoch 00015: val_loss did not improve from 0.52896\n",
      "Epoch 16/20\n",
      "9399/9399 [==============================] - 6s 599us/step - loss: 0.3469 - acc: 0.8396 - val_loss: 0.4240 - val_acc: 0.8245\n",
      "\n",
      "Epoch 00016: val_loss did not improve from 0.52896\n",
      "Epoch 17/20\n",
      "9399/9399 [==============================] - 6s 613us/step - loss: 0.3407 - acc: 0.8421 - val_loss: 0.4170 - val_acc: 0.8258\n",
      "\n",
      "Epoch 00017: val_loss did not improve from 0.52896\n",
      "Epoch 18/20\n",
      "9399/9399 [==============================] - 6s 613us/step - loss: 0.3353 - acc: 0.8412 - val_loss: 0.4285 - val_acc: 0.8268\n",
      "\n",
      "Epoch 00018: val_loss did not improve from 0.52896\n",
      "Epoch 19/20\n",
      "9399/9399 [==============================] - 6s 613us/step - loss: 0.3327 - acc: 0.8421 - val_loss: 0.4117 - val_acc: 0.8295\n",
      "\n",
      "Epoch 00019: val_loss did not improve from 0.52896\n",
      "Epoch 20/20\n",
      "9399/9399 [==============================] - 6s 618us/step - loss: 0.3334 - acc: 0.8471 - val_loss: 0.4226 - val_acc: 0.8295\n",
      "\n",
      "Epoch 00020: val_loss did not improve from 0.52896\n"
     ]
    }
   ],
   "source": [
    "# Code to train model 1 and save best check point\n",
    "filepath=root_path+\"weights.best.hdf5\"\n",
    "checkpoint = ModelCheckpoint(filepath, monitor='val_loss', verbose=1, save_best_only=True, mode='max')\n",
    "callbacks_list = [checkpoint]\n",
    "history=model.fit(X_train.values, y_train,\n",
    "              batch_size=32,\n",
    "              callbacks=callbacks_list,\n",
    "              epochs=20,\n",
    "              validation_data=(X_test.values, y_test),\n",
    "              shuffle=True)"
   ]
  },
  {
   "cell_type": "code",
   "execution_count": 0,
   "metadata": {
    "colab": {
     "base_uri": "https://localhost:8080/",
     "height": 1000
    },
    "colab_type": "code",
    "executionInfo": {
     "elapsed": 322047,
     "status": "ok",
     "timestamp": 1564191513639,
     "user": {
      "displayName": "shruti grover",
      "photoUrl": "",
      "userId": "04332068640361656724"
     },
     "user_tz": 240
    },
    "id": "y72w5eh_zxNT",
    "outputId": "144209a0-7856-4fc1-d01a-0238870c2d7a"
   },
   "outputs": [
    {
     "name": "stdout",
     "output_type": "stream",
     "text": [
      "Train on 9399 samples, validate on 4029 samples\n",
      "Epoch 1/20\n",
      "9399/9399 [==============================] - 12s 1ms/step - loss: 0.9129 - acc: 0.6808 - val_loss: 0.6408 - val_acc: 0.7516\n",
      "\n",
      "Epoch 00001: val_loss improved from -inf to 0.64078, saving model to ./hierarchicalModel-data/weights2.best.hdf5\n",
      "Epoch 2/20\n",
      "9399/9399 [==============================] - 10s 1ms/step - loss: 0.7084 - acc: 0.7359 - val_loss: 0.5094 - val_acc: 0.7838\n",
      "\n",
      "Epoch 00002: val_loss did not improve from 0.64078\n",
      "Epoch 3/20\n",
      "9399/9399 [==============================] - 10s 1ms/step - loss: 0.6167 - acc: 0.7672 - val_loss: 0.4883 - val_acc: 0.7816\n",
      "\n",
      "Epoch 00003: val_loss did not improve from 0.64078\n",
      "Epoch 4/20\n",
      "9399/9399 [==============================] - 10s 1ms/step - loss: 0.5724 - acc: 0.7813 - val_loss: 0.4650 - val_acc: 0.7851\n",
      "\n",
      "Epoch 00004: val_loss did not improve from 0.64078\n",
      "Epoch 5/20\n",
      "9399/9399 [==============================] - 10s 1ms/step - loss: 0.5371 - acc: 0.7876 - val_loss: 0.4475 - val_acc: 0.8151\n",
      "\n",
      "Epoch 00005: val_loss did not improve from 0.64078\n",
      "Epoch 6/20\n",
      "9399/9399 [==============================] - 10s 1ms/step - loss: 0.5264 - acc: 0.7882 - val_loss: 0.4410 - val_acc: 0.8039\n",
      "\n",
      "Epoch 00006: val_loss did not improve from 0.64078\n",
      "Epoch 7/20\n",
      "9399/9399 [==============================] - 10s 1ms/step - loss: 0.4952 - acc: 0.7970 - val_loss: 0.4241 - val_acc: 0.8064\n",
      "\n",
      "Epoch 00007: val_loss did not improve from 0.64078\n",
      "Epoch 8/20\n",
      "9399/9399 [==============================] - 10s 1ms/step - loss: 0.4787 - acc: 0.8087 - val_loss: 0.4356 - val_acc: 0.8099\n",
      "\n",
      "Epoch 00008: val_loss did not improve from 0.64078\n",
      "Epoch 9/20\n",
      "9399/9399 [==============================] - 10s 1ms/step - loss: 0.4641 - acc: 0.8131 - val_loss: 0.4276 - val_acc: 0.8081\n",
      "\n",
      "Epoch 00009: val_loss did not improve from 0.64078\n",
      "Epoch 10/20\n",
      "9399/9399 [==============================] - 10s 1ms/step - loss: 0.4618 - acc: 0.8185 - val_loss: 0.4310 - val_acc: 0.8121\n",
      "\n",
      "Epoch 00010: val_loss did not improve from 0.64078\n",
      "Epoch 11/20\n",
      "9399/9399 [==============================] - 10s 1ms/step - loss: 0.4530 - acc: 0.8186 - val_loss: 0.4245 - val_acc: 0.8148\n",
      "\n",
      "Epoch 00011: val_loss did not improve from 0.64078\n",
      "Epoch 12/20\n",
      "9399/9399 [==============================] - 10s 1ms/step - loss: 0.4428 - acc: 0.8200 - val_loss: 0.4288 - val_acc: 0.8151\n",
      "\n",
      "Epoch 00012: val_loss did not improve from 0.64078\n",
      "Epoch 13/20\n",
      "9399/9399 [==============================] - 10s 1ms/step - loss: 0.4329 - acc: 0.8260 - val_loss: 0.4282 - val_acc: 0.8156\n",
      "\n",
      "Epoch 00013: val_loss did not improve from 0.64078\n",
      "Epoch 14/20\n",
      "9399/9399 [==============================] - 10s 1ms/step - loss: 0.4434 - acc: 0.8188 - val_loss: 0.4351 - val_acc: 0.8052\n",
      "\n",
      "Epoch 00014: val_loss did not improve from 0.64078\n",
      "Epoch 15/20\n",
      "9399/9399 [==============================] - 10s 1ms/step - loss: 0.4198 - acc: 0.8271 - val_loss: 0.4251 - val_acc: 0.8186\n",
      "\n",
      "Epoch 00015: val_loss did not improve from 0.64078\n",
      "Epoch 16/20\n",
      "9399/9399 [==============================] - 10s 1ms/step - loss: 0.4147 - acc: 0.8308 - val_loss: 0.4172 - val_acc: 0.8263\n",
      "\n",
      "Epoch 00016: val_loss did not improve from 0.64078\n",
      "Epoch 17/20\n",
      "9399/9399 [==============================] - 10s 1ms/step - loss: 0.4188 - acc: 0.8254 - val_loss: 0.4294 - val_acc: 0.8233\n",
      "\n",
      "Epoch 00017: val_loss did not improve from 0.64078\n",
      "Epoch 18/20\n",
      "9399/9399 [==============================] - 10s 1ms/step - loss: 0.4123 - acc: 0.8321 - val_loss: 0.4279 - val_acc: 0.8225\n",
      "\n",
      "Epoch 00018: val_loss did not improve from 0.64078\n",
      "Epoch 19/20\n",
      "9399/9399 [==============================] - 10s 1ms/step - loss: 0.4064 - acc: 0.8330 - val_loss: 0.4468 - val_acc: 0.8049\n",
      "\n",
      "Epoch 00019: val_loss did not improve from 0.64078\n",
      "Epoch 20/20\n",
      "9399/9399 [==============================] - 10s 1ms/step - loss: 0.4071 - acc: 0.8325 - val_loss: 0.4286 - val_acc: 0.8146\n",
      "\n",
      "Epoch 00020: val_loss did not improve from 0.64078\n"
     ]
    }
   ],
   "source": [
    "#Training for Model2 and Saving best weights\n",
    "filepath=root_path+\"weights2.best.hdf5\"\n",
    "checkpoint = ModelCheckpoint(filepath, monitor='val_loss', verbose=1, save_best_only=True, mode='max')\n",
    "callbacks_list = [checkpoint]\n",
    "history2=model2.fit(X_train.values, y_train,\n",
    "              batch_size=32,\n",
    "              callbacks=callbacks_list,\n",
    "              epochs=20,\n",
    "              validation_data=(X_test.values, y_test),\n",
    "              shuffle=True,class_weight=class_weight)"
   ]
  },
  {
   "cell_type": "code",
   "execution_count": 0,
   "metadata": {
    "colab": {},
    "colab_type": "code",
    "id": "SDgWsKS89aVJ"
   },
   "outputs": [],
   "source": [
    "# Loading Best weights into the mode\n",
    "model.load_weights(root_path+\"weights.best.hdf5\")\n",
    "model.compile(loss='categorical_crossentropy',\n",
    "              optimizer=opt,\n",
    "              metrics=['accuracy'])\n",
    "model2.load_weights(root_path+\"weights2.best.hdf5\")\n",
    "model2.compile(loss='categorical_crossentropy',\n",
    "              optimizer=opt,\n",
    "              metrics=['accuracy'])"
   ]
  },
  {
   "cell_type": "code",
   "execution_count": 0,
   "metadata": {
    "colab": {},
    "colab_type": "code",
    "id": "J94i698gY5NQ"
   },
   "outputs": [],
   "source": [
    "#Predictions  for Train, Validation and Test data for both models\n",
    "p_model1=model.predict_classes(X_comp.values)\n",
    "p_model2=model2.predict_classes(X_comp.values)\n",
    "p_model1_train=model.predict_classes(X_train.values)\n",
    "p_model1_val=model.predict_classes(X_test.values)\n",
    "p_model2_train=model2.predict_classes(X_train.values)\n",
    "p_model2_val=model2.predict_classes(X_test.values)"
   ]
  },
  {
   "cell_type": "code",
   "execution_count": 0,
   "metadata": {
    "colab": {
     "base_uri": "https://localhost:8080/",
     "height": 537
    },
    "colab_type": "code",
    "executionInfo": {
     "elapsed": 333617,
     "status": "ok",
     "timestamp": 1564191525867,
     "user": {
      "displayName": "shruti grover",
      "photoUrl": "",
      "userId": "04332068640361656724"
     },
     "user_tz": 240
    },
    "id": "4QDgk7L6buIV",
    "outputId": "1979308a-7a75-421e-e20d-c0f856519d95"
   },
   "outputs": [
    {
     "name": "stdout",
     "output_type": "stream",
     "text": [
      "Training Confusion Matrix for 3 Class prediction by BERT+DNN Model1 \n",
      " [[1698  188  717]\n",
      " [ 162  266  167]\n",
      " [ 493  124 5584]] \n",
      "F1 Score Train  0.6734299286846528\n",
      "Validation Confusion Matrix for 3 Class prediction by BERT+DNN Model1\n",
      " [[ 660   79  337]\n",
      " [  84   92   69]\n",
      " [ 211   66 2431]] \n",
      "F1 Score Train  0.6361649508957462\n",
      "Training Confusion Matrix for 3 Class prediction by BERT+DNN Model2\n",
      " [[1731  143  729]\n",
      " [ 248  183  164]\n",
      " [ 904   92 5205]] \n",
      "F1 Score Train  0.612924739907069\n",
      "Validation Confusion Matrix for 3 Class prediction by BERT+DNN Model2\n",
      " [[ 707   42  327]\n",
      " [ 119   56   70]\n",
      " [ 404   39 2265]] \n",
      "F1 Score Train  0.5833173790464009\n",
      "Training Confusion Matrix for 3 Class prediction by BERT+XGboost Model1 \n",
      " [[1725   72  806]\n",
      " [ 181  189  225]\n",
      " [ 328   32 5841]] \n",
      "F1 Score Train  0.6775083941333011\n",
      "Validation Confusion Matrix for 3 Class prediction by BERT+XGBoost Model1\n",
      " [[ 646   35  395]\n",
      " [  93   61   91]\n",
      " [ 162   23 2523]] \n",
      "F1 Score Train  0.6237703376578914\n"
     ]
    }
   ],
   "source": [
    "# Printing Confusion matrix and F1 Score for all the models \n",
    "print(\"Training Confusion Matrix for 3 Class prediction by BERT+DNN Model1 \\n\",confusion_matrix(y_t,p_model1_train),\"\\nF1 Score Train \",f1_score(y_t,p_model1_train,average='macro'))\n",
    "print(\"Validation Confusion Matrix for 3 Class prediction by BERT+DNN Model1\\n\",confusion_matrix(y_val,p_model1_val),\"\\nF1 Score Train \",f1_score(y_val,p_model1_val,average='macro'))\n",
    "print(\"Training Confusion Matrix for 3 Class prediction by BERT+DNN Model2\\n\",confusion_matrix(y_t,p_model2_train),\"\\nF1 Score Train \",f1_score(y_t,p_model2_train,average='macro'))\n",
    "print(\"Validation Confusion Matrix for 3 Class prediction by BERT+DNN Model2\\n\",confusion_matrix(y_val,p_model2_val),\"\\nF1 Score Train \",f1_score(y_val,p_model2_val,average='macro'))\n",
    "print(\"Training Confusion Matrix for 3 Class prediction by BERT+XGboost Model1 \\n\",confusion_matrix(y_t,y_pred_xg_train),\"\\nF1 Score Train \",f1_score(y_t,y_pred_xg_train,average='macro'))\n",
    "print(\"Validation Confusion Matrix for 3 Class prediction by BERT+XGBoost Model1\\n\",confusion_matrix(y_val,y_pred_xg_val),\"\\nF1 Score Train \",f1_score(y_val,y_pred_xg_val,average='macro'))"
   ]
  },
  {
   "cell_type": "code",
   "execution_count": 0,
   "metadata": {
    "colab": {},
    "colab_type": "code",
    "id": "SAPRYBTQWScu"
   },
   "outputs": [],
   "source": [
    "# Predictions from Classifier 1 or Stage 1 or Relatedness layer\n",
    "df_classifier1=pd.read_csv(root_path+\"comp_feature_data.csv\")\n",
    "p_classifier1=df_classifier1[\"predicted_stance\"].values\n",
    "y_gold=df_classifier1[\"stance\"].values"
   ]
  },
  {
   "cell_type": "markdown",
   "metadata": {
    "colab_type": "text",
    "id": "vXq-FO9B2NOs"
   },
   "source": [
    "**Models Tested Individually and with Ensembles**"
   ]
  },
  {
   "cell_type": "code",
   "execution_count": 0,
   "metadata": {
    "colab": {
     "base_uri": "https://localhost:8080/",
     "height": 243
    },
    "colab_type": "code",
    "executionInfo": {
     "elapsed": 334023,
     "status": "ok",
     "timestamp": 1564191526779,
     "user": {
      "displayName": "shruti grover",
      "photoUrl": "",
      "userId": "04332068640361656724"
     },
     "user_tz": 240
    },
    "id": "qMaaPue63VCT",
    "outputId": "3446e2ad-faef-450e-bff1-b36227ffc504"
   },
   "outputs": [
    {
     "name": "stdout",
     "output_type": "stream",
     "text": [
      "-------------------------------------------------------------\n",
      "|           |   agree   | disagree  |  discuss  | unrelated |\n",
      "-------------------------------------------------------------\n",
      "|   agree   |   1113    |    17     |    667    |    106    |\n",
      "-------------------------------------------------------------\n",
      "| disagree  |    303    |    28     |    259    |    107    |\n",
      "-------------------------------------------------------------\n",
      "|  discuss  |   1206    |    139    |   2954    |    165    |\n",
      "-------------------------------------------------------------\n",
      "| unrelated |    30     |     2     |    139    |   18178   |\n",
      "-------------------------------------------------------------\n",
      "Score: 9287.25 out of 11651.25\t(79.7103315094947%)\n"
     ]
    },
    {
     "data": {
      "text/plain": [
       "79.7103315094947"
      ]
     },
     "execution_count": 87,
     "metadata": {
      "tags": []
     },
     "output_type": "execute_result"
    }
   ],
   "source": [
    "### Classfier1 + Classifier2(BERT+DNN Model1)\n",
    "final_label=[]\n",
    "for i,item in enumerate(p_classifier1):\n",
    "  if item==3:\n",
    "    final_label.append(item) \n",
    "  else:\n",
    "    final_label.append(p_model1[i])\n",
    "    \n",
    "    \n",
    "final_label=np.array(final_label) \n",
    "report_score([LABELS[e] for e in y_gold],[LABELS[e] for e in final_label])"
   ]
  },
  {
   "cell_type": "code",
   "execution_count": 0,
   "metadata": {
    "colab": {
     "base_uri": "https://localhost:8080/",
     "height": 243
    },
    "colab_type": "code",
    "executionInfo": {
     "elapsed": 333843,
     "status": "ok",
     "timestamp": 1564191526780,
     "user": {
      "displayName": "shruti grover",
      "photoUrl": "",
      "userId": "04332068640361656724"
     },
     "user_tz": 240
    },
    "id": "VCGwv1E7gSzw",
    "outputId": "0d4990f5-5d0c-4cdb-fb7c-909dbdb7e26b"
   },
   "outputs": [
    {
     "name": "stdout",
     "output_type": "stream",
     "text": [
      "-------------------------------------------------------------\n",
      "|           |   agree   | disagree  |  discuss  | unrelated |\n",
      "-------------------------------------------------------------\n",
      "|   agree   |   1067    |    17     |    713    |    106    |\n",
      "-------------------------------------------------------------\n",
      "| disagree  |    286    |    29     |    275    |    107    |\n",
      "-------------------------------------------------------------\n",
      "|  discuss  |   1255    |    90     |   2954    |    165    |\n",
      "-------------------------------------------------------------\n",
      "| unrelated |    46     |     0     |    125    |   18178   |\n",
      "-------------------------------------------------------------\n",
      "Score: 9253.5 out of 11651.25\t(79.42066301898937%)\n"
     ]
    },
    {
     "data": {
      "text/plain": [
       "79.42066301898937"
      ]
     },
     "execution_count": 88,
     "metadata": {
      "tags": []
     },
     "output_type": "execute_result"
    }
   ],
   "source": [
    "### Classfier1 + Classifier2(BERT+DNN Model 2)\n",
    "final_label2=[]\n",
    "for i,item in enumerate(p_classifier1):\n",
    "  if item==3:\n",
    "    final_label2.append(item) \n",
    "  else:\n",
    "    final_label2.append(p_model2[i])\n",
    "    \n",
    "final_label2=np.array(final_label2) \n",
    " \n",
    "report_score([LABELS[e] for e in y_gold],[LABELS[e] for e in final_label2])"
   ]
  },
  {
   "cell_type": "code",
   "execution_count": 0,
   "metadata": {
    "colab": {
     "base_uri": "https://localhost:8080/",
     "height": 243
    },
    "colab_type": "code",
    "executionInfo": {
     "elapsed": 333710,
     "status": "ok",
     "timestamp": 1564191526782,
     "user": {
      "displayName": "shruti grover",
      "photoUrl": "",
      "userId": "04332068640361656724"
     },
     "user_tz": 240
    },
    "id": "n28nkAylHm5_",
    "outputId": "8783e19d-1f28-49ab-f00e-2ac60d04f4c6"
   },
   "outputs": [
    {
     "name": "stdout",
     "output_type": "stream",
     "text": [
      "-------------------------------------------------------------\n",
      "|           |   agree   | disagree  |  discuss  | unrelated |\n",
      "-------------------------------------------------------------\n",
      "|   agree   |    763    |     0     |   1034    |    106    |\n",
      "-------------------------------------------------------------\n",
      "| disagree  |    189    |     0     |    401    |    107    |\n",
      "-------------------------------------------------------------\n",
      "|  discuss  |    687    |     0     |   3612    |    165    |\n",
      "-------------------------------------------------------------\n",
      "| unrelated |    25     |     0     |    146    |   18178   |\n",
      "-------------------------------------------------------------\n",
      "Score: 9497.25 out of 11651.25\t(81.5127132281944%)\n"
     ]
    },
    {
     "data": {
      "text/plain": [
       "81.5127132281944"
      ]
     },
     "execution_count": 89,
     "metadata": {
      "tags": []
     },
     "output_type": "execute_result"
    }
   ],
   "source": [
    "### Classfier1 + Classifier2(BERT+XGBoost)\n",
    "final_label3=[]\n",
    "for i,item in enumerate(p_classifier1):\n",
    "  if item==3:\n",
    "    final_label3.append(item) \n",
    "  else:\n",
    "    final_label3.append(y_comp_xg[i])\n",
    "    \n",
    "final_label3=np.array(final_label3)\n",
    "report_score([LABELS[e] for e in y_gold],[LABELS[e] for e in final_label3])"
   ]
  },
  {
   "cell_type": "markdown",
   "metadata": {
    "colab_type": "text",
    "id": "f2mTWPPj1V6T"
   },
   "source": [
    "**BEST PERFORMING ENSEMBLE in terms of F1 Score performance. Codalab results reflects this**"
   ]
  },
  {
   "cell_type": "code",
   "execution_count": 0,
   "metadata": {
    "colab": {
     "base_uri": "https://localhost:8080/",
     "height": 243
    },
    "colab_type": "code",
    "executionInfo": {
     "elapsed": 333623,
     "status": "ok",
     "timestamp": 1564191526998,
     "user": {
      "displayName": "shruti grover",
      "photoUrl": "",
      "userId": "04332068640361656724"
     },
     "user_tz": 240
    },
    "id": "6p8cdD-dXL65",
    "outputId": "ffc51e26-a221-4c00-fc20-d24df9df7d80"
   },
   "outputs": [
    {
     "name": "stdout",
     "output_type": "stream",
     "text": [
      "-------------------------------------------------------------\n",
      "|           |   agree   | disagree  |  discuss  | unrelated |\n",
      "-------------------------------------------------------------\n",
      "|   agree   |    759    |    17     |   1021    |    106    |\n",
      "-------------------------------------------------------------\n",
      "| disagree  |    184    |    28     |    378    |    107    |\n",
      "-------------------------------------------------------------\n",
      "|  discuss  |    606    |    139    |   3554    |    165    |\n",
      "-------------------------------------------------------------\n",
      "| unrelated |    24     |     2     |    145    |   18178   |\n",
      "-------------------------------------------------------------\n",
      "Score: 9471.75 out of 11651.25\t(81.29385259092372%)\n"
     ]
    },
    {
     "data": {
      "text/plain": [
       "81.29385259092372"
      ]
     },
     "execution_count": 90,
     "metadata": {
      "tags": []
     },
     "output_type": "execute_result"
    }
   ],
   "source": [
    "### Ensemble1\n",
    "final_label4=[]\n",
    "for i,item in enumerate(p_classifier1):\n",
    "  if item==3:\n",
    "    final_label4.append(item)\n",
    "  else:\n",
    "    if final_label[i]==1 or final_label[i]==1 :\n",
    "      final_label4.append(1)\n",
    "    else:\n",
    "      final_label4.append(final_label3[i])\n",
    "    \n",
    "final_label4=np.array(final_label4) \n",
    "report_score([LABELS[e] for e in y_gold],[LABELS[e] for e in final_label4])"
   ]
  },
  {
   "cell_type": "code",
   "execution_count": 0,
   "metadata": {
    "colab": {
     "base_uri": "https://localhost:8080/",
     "height": 243
    },
    "colab_type": "code",
    "executionInfo": {
     "elapsed": 333742,
     "status": "ok",
     "timestamp": 1564191527278,
     "user": {
      "displayName": "shruti grover",
      "photoUrl": "",
      "userId": "04332068640361656724"
     },
     "user_tz": 240
    },
    "id": "n8QfaqE2ZGZH",
    "outputId": "bf0c34f2-9f9f-44c1-a2b5-7c661f7008b5"
   },
   "outputs": [
    {
     "name": "stdout",
     "output_type": "stream",
     "text": [
      "-------------------------------------------------------------\n",
      "|           |   agree   | disagree  |  discuss  | unrelated |\n",
      "-------------------------------------------------------------\n",
      "|   agree   |   1068    |    16     |    713    |    106    |\n",
      "-------------------------------------------------------------\n",
      "| disagree  |    292    |    28     |    270    |    107    |\n",
      "-------------------------------------------------------------\n",
      "|  discuss  |   1208    |    116    |   2975    |    165    |\n",
      "-------------------------------------------------------------\n",
      "| unrelated |    44     |     1     |    126    |   18178   |\n",
      "-------------------------------------------------------------\n",
      "Score: 9269.25 out of 11651.25\t(79.55584164789185%)\n"
     ]
    },
    {
     "data": {
      "text/plain": [
       "79.55584164789185"
      ]
     },
     "execution_count": 91,
     "metadata": {
      "tags": []
     },
     "output_type": "execute_result"
    }
   ],
   "source": [
    "### Ensemble2\n",
    "final_label5=[]\n",
    "for i,item in enumerate(p_classifier1):\n",
    "  if item==3:\n",
    "    final_label5.append(item)\n",
    "  else:\n",
    "    if final_label[i]==1 or final_label2[i]==1 :\n",
    "      final_label5.append(choice([final_label[i],final_label2[i]]))\n",
    "    else:\n",
    "      final_label5.append(choice([final_label[i],final_label2[i],final_label2[i]]))\n",
    "    \n",
    "final_label5=np.array(final_label5) \n",
    "report_score([LABELS[e] for e in y_gold],[LABELS[e] for e in final_label5])"
   ]
  },
  {
   "cell_type": "code",
   "execution_count": 0,
   "metadata": {
    "colab": {},
    "colab_type": "code",
    "id": "XeVOv6tSq4XF"
   },
   "outputs": [],
   "source": []
  }
 ],
 "metadata": {
  "colab": {
   "collapsed_sections": [],
   "name": "Hierarchical-main.ipynb",
   "provenance": [],
   "version": "0.3.2"
  },
  "kernelspec": {
   "display_name": "Python 3",
   "language": "python",
   "name": "python3"
  },
  "language_info": {
   "codemirror_mode": {
    "name": "ipython",
    "version": 3
   },
   "file_extension": ".py",
   "mimetype": "text/x-python",
   "name": "python",
   "nbconvert_exporter": "python",
   "pygments_lexer": "ipython3",
   "version": "3.7.1"
  }
 },
 "nbformat": 4,
 "nbformat_minor": 1
}
